{
 "cells": [
  {
   "cell_type": "markdown",
   "id": "10b85585",
   "metadata": {},
   "source": [
    "# MINI PROJECT"
   ]
  },
  {
   "cell_type": "code",
   "execution_count": 2,
   "id": "4318f4c4",
   "metadata": {},
   "outputs": [
    {
     "name": "stdout",
     "output_type": "stream",
     "text": [
      "\n",
      "===== Movie Ticket Booking System =====\n",
      "Available Movies:\n",
      "1. Adipurush - $10\n",
      "2. Project-k - $8\n",
      "3. PS-2 - $9\n",
      "4. Guntur mirchi - $9\n",
      "0. Exit\n",
      "Select an option: 1\n",
      "Enter the number of tickets you want to book: 10\n",
      "Booking 10 ticket(s) for Adipurush\n",
      "Total price: $100\n",
      "\n",
      "===== Ticket Details =====\n",
      "Movie: Adipurush\n",
      "Tickets: 10\n",
      "Enjoy your movie!\n",
      "\n",
      "===== Movie Ticket Booking System =====\n",
      "Available Movies:\n",
      "1. Adipurush - $10\n",
      "2. Project-k - $8\n",
      "3. PS-2 - $9\n",
      "4. Guntur mirchi - $9\n",
      "0. Exit\n",
      "Select an option: 0\n"
     ]
    }
   ],
   "source": [
    "movies = {\n",
    "    1: {\"name\": \"Adipurush\", \"seats\": 50, \"price\": 10},\n",
    "    2: {\"name\": \"Project-k\", \"seats\": 30, \"price\": 8},\n",
    "    3: {\"name\": \"PS-2\", \"seats\": 40, \"price\": 9},\n",
    "    4: {\"name\": \"Guntur mirchi\", \"seats\": 35, \"price\": 9}\n",
    "}\n",
    "\n",
    "def display_movies():\n",
    "    print(\"Available Movies:\")\n",
    "    for id, movie in movies.items():\n",
    "        print(f\"{id}. {movie['name']} - ${movie['price']}\")\n",
    "\n",
    "def book_ticket(movie_id, num_tickets):\n",
    "    if movie_id not in movies:\n",
    "        print(\"Invalid movie ID\")\n",
    "        return\n",
    "\n",
    "    movie = movies[movie_id]\n",
    "    if num_tickets > movie[\"seats\"]:\n",
    "        print(\"Sorry, there are not enough seats available.\")\n",
    "        return\n",
    "\n",
    "    total_price = movie[\"price\"] * num_tickets\n",
    "    print(f\"Booking {num_tickets} ticket(s) for {movie['name']}\")\n",
    "    print(f\"Total price: ${total_price}\")\n",
    "\n",
    "    movie[\"seats\"] -= num_tickets\n",
    "\n",
    "def generate_ticket(movie_name, num_tickets):\n",
    "    ticket = f\"Movie: {movie_name}\\nTickets: {num_tickets}\\nEnjoy your movie!\"\n",
    "    return ticket\n",
    "\n",
    "# Main program loop\n",
    "while True:\n",
    "    print(\"\\n===== Movie Ticket Booking System =====\")\n",
    "    display_movies()\n",
    "    print(\"0. Exit\")\n",
    "\n",
    "    choice = int(input(\"Select an option: \"))\n",
    "    if choice == 0:\n",
    "        break\n",
    "\n",
    "    if choice in movies:\n",
    "        num_tickets = int(input(\"Enter the number of tickets you want to book: \"))\n",
    "        book_ticket(choice, num_tickets)\n",
    "        ticket = generate_ticket(movies[choice][\"name\"], num_tickets)\n",
    "        print(\"\\n===== Ticket Details =====\")\n",
    "        print(ticket)\n",
    "    else:\n",
    "        print(\"Invalid choice. Please try again.\")\n"
   ]
  }
 ],
 "metadata": {
  "kernelspec": {
   "display_name": "Python 3 (ipykernel)",
   "language": "python",
   "name": "python3"
  },
  "language_info": {
   "codemirror_mode": {
    "name": "ipython",
    "version": 3
   },
   "file_extension": ".py",
   "mimetype": "text/x-python",
   "name": "python",
   "nbconvert_exporter": "python",
   "pygments_lexer": "ipython3",
   "version": "3.9.12"
  }
 },
 "nbformat": 4,
 "nbformat_minor": 5
}
